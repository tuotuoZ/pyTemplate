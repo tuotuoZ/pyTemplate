{
 "cells": [
  {
   "cell_type": "markdown",
   "metadata": {},
   "source": [
    "# Word Count Prototype\n",
    "This notebook presents a prototype of our word count experiment example. It calls our `cdstemplate` library directly, to avoid reduplicating code, then creates a plot of the most frequent words in the corpus. Notebooks are a great way to create visualizations, which often need to be tweaked for readability and aesthetics. \n",
    "\n",
    "Don't forget to restart your kernel and re-run the notebook completely before you commit or share it with others! This helps avoid problems arising from deleted or reordered cells."
   ]
  },
  {
   "cell_type": "code",
   "execution_count": 1,
   "metadata": {},
   "outputs": [],
   "source": [
    "# This cell imports packages and defines any experimental set-up \n",
    "# Try to make experimental parameters easy for others to to find by including them in a few cells at the beginning of your notebook\n",
    "import logging\n",
    "from pathlib import Path\n",
    "\n",
    "import matplotlib.pyplot as plt\n",
    "import seaborn as sns\n",
    "\n",
    "from cdstemplate import word_count\n",
    "\n",
    "# You can include this to see log messages from the packages you're using\n",
    "logging.basicConfig(level=logging.INFO)\n",
    "\n",
    "# A relative path to the input data\n",
    "input_txt_dir = \"../data/gutenberg\""
   ]
  },
  {
   "cell_type": "code",
   "execution_count": 2,
   "metadata": {},
   "outputs": [
    {
     "name": "stderr",
     "output_type": "stream",
     "text": [
      "INFO:cdstemplate.word_count:Adding 181 token(s) case insensitively\n",
      "INFO:cdstemplate.word_count:Vocabulary size increased by 122 word types\n",
      "INFO:cdstemplate.word_count:Adding 189 token(s) case insensitively\n",
      "INFO:cdstemplate.word_count:Vocabulary size increased by 105 word types\n",
      "INFO:cdstemplate.word_count:Adding 180 token(s) case insensitively\n",
      "INFO:cdstemplate.word_count:Vocabulary size increased by 92 word types\n",
      "INFO:cdstemplate.word_count:Adding 192 token(s) case insensitively\n",
      "INFO:cdstemplate.word_count:Vocabulary size increased by 95 word types\n",
      "INFO:cdstemplate.word_count:Adding 246 token(s) case insensitively\n",
      "INFO:cdstemplate.word_count:Vocabulary size increased by 83 word types\n",
      "INFO:cdstemplate.word_count:Adding 189 token(s) case insensitively\n",
      "INFO:cdstemplate.word_count:Vocabulary size increased by 83 word types\n",
      "INFO:cdstemplate.word_count:Adding 258 token(s) case insensitively\n",
      "INFO:cdstemplate.word_count:Vocabulary size increased by 82 word types\n",
      "INFO:cdstemplate.word_count:Adding 204 token(s) case insensitively\n",
      "INFO:cdstemplate.word_count:Vocabulary size increased by 57 word types\n",
      "INFO:cdstemplate.word_count:Adding 197 token(s) case insensitively\n",
      "INFO:cdstemplate.word_count:Vocabulary size increased by 90 word types\n",
      "INFO:cdstemplate.word_count:Adding 180 token(s) case insensitively\n",
      "INFO:cdstemplate.word_count:Vocabulary size increased by 74 word types\n",
      "INFO:cdstemplate.word_count:Adding 182 token(s) case insensitively\n",
      "INFO:cdstemplate.word_count:Vocabulary size increased by 66 word types\n"
     ]
    },
    {
     "name": "stdout",
     "output_type": "stream",
     "text": [
      "Tokenizing file: ../data/gutenberg/austen-persuasion.txt\n",
      "Tokenizing file: ../data/gutenberg/chesterton-ball.txt\n",
      "Tokenizing file: ../data/gutenberg/chesterton-brown.txt\n",
      "Tokenizing file: ../data/gutenberg/carroll-alice.txt\n",
      "Tokenizing file: ../data/gutenberg/bryant-stories.txt\n",
      "Tokenizing file: ../data/gutenberg/burgess-busterbrown.txt\n",
      "Tokenizing file: ../data/gutenberg/blake-poems.txt\n",
      "Tokenizing file: ../data/gutenberg/bible-kjv.txt\n",
      "Tokenizing file: ../data/gutenberg/chesterton-thursday.txt\n",
      "Tokenizing file: ../data/gutenberg/austen-sense.txt\n",
      "Tokenizing file: ../data/gutenberg/austen-emma.txt\n"
     ]
    }
   ],
   "source": [
    "# Add counts for each document\n",
    "corpus_counter = word_count.CorpusCounter()\n",
    "for txt_file in Path(input_txt_dir).glob(\"*.txt\"):\n",
    "    print(\"Tokenizing file:\", txt_file)\n",
    "    txt_contents = txt_file.read_text()\n",
    "    corpus_counter.add_doc(txt_contents)"
   ]
  },
  {
   "cell_type": "code",
   "execution_count": 3,
   "metadata": {},
   "outputs": [
    {
     "name": "stdout",
     "output_type": "stream",
     "text": [
      "Vocab size: 949\n"
     ]
    }
   ],
   "source": [
    "# How many unique words appeared in our corpus?\n",
    "print(\"Vocab size:\", corpus_counter.get_vocab_size())"
   ]
  },
  {
   "cell_type": "code",
   "execution_count": 4,
   "metadata": {},
   "outputs": [
    {
     "data": {
      "text/html": [
       "<div>\n",
       "<style scoped>\n",
       "    .dataframe tbody tr th:only-of-type {\n",
       "        vertical-align: middle;\n",
       "    }\n",
       "\n",
       "    .dataframe tbody tr th {\n",
       "        vertical-align: top;\n",
       "    }\n",
       "\n",
       "    .dataframe thead th {\n",
       "        text-align: right;\n",
       "    }\n",
       "</style>\n",
       "<table border=\"1\" class=\"dataframe\">\n",
       "  <thead>\n",
       "    <tr style=\"text-align: right;\">\n",
       "      <th></th>\n",
       "      <th>token</th>\n",
       "      <th>count</th>\n",
       "    </tr>\n",
       "  </thead>\n",
       "  <tbody>\n",
       "    <tr>\n",
       "      <th>616</th>\n",
       "      <td>\"Drop</td>\n",
       "      <td>1</td>\n",
       "    </tr>\n",
       "    <tr>\n",
       "      <th>91</th>\n",
       "      <td>\"ELLIOT</td>\n",
       "      <td>1</td>\n",
       "    </tr>\n",
       "    <tr>\n",
       "      <th>571</th>\n",
       "      <td>\"I</td>\n",
       "      <td>1</td>\n",
       "    </tr>\n",
       "    <tr>\n",
       "      <th>475</th>\n",
       "      <td>\"It's</td>\n",
       "      <td>2</td>\n",
       "    </tr>\n",
       "    <tr>\n",
       "      <th>484</th>\n",
       "      <td>\"No,</td>\n",
       "      <td>1</td>\n",
       "    </tr>\n",
       "  </tbody>\n",
       "</table>\n",
       "</div>"
      ],
      "text/plain": [
       "       token  count\n",
       "616    \"Drop      1\n",
       "91   \"ELLIOT      1\n",
       "571       \"I      1\n",
       "475    \"It's      2\n",
       "484     \"No,      1"
      ]
     },
     "metadata": {},
     "output_type": "display_data"
    }
   ],
   "source": [
    "# Get the dataframe we'll work with for the display\n",
    "word_count_df = corpus_counter.get_token_counts_as_dataframe()\n",
    "display(word_count_df.head())"
   ]
  },
  {
   "cell_type": "code",
   "execution_count": 5,
   "metadata": {},
   "outputs": [
    {
     "data": {
      "text/html": [
       "<div>\n",
       "<style scoped>\n",
       "    .dataframe tbody tr th:only-of-type {\n",
       "        vertical-align: middle;\n",
       "    }\n",
       "\n",
       "    .dataframe tbody tr th {\n",
       "        vertical-align: top;\n",
       "    }\n",
       "\n",
       "    .dataframe thead th {\n",
       "        text-align: right;\n",
       "    }\n",
       "</style>\n",
       "<table border=\"1\" class=\"dataframe\">\n",
       "  <thead>\n",
       "    <tr style=\"text-align: right;\">\n",
       "      <th></th>\n",
       "      <th>token</th>\n",
       "      <th>count</th>\n",
       "    </tr>\n",
       "  </thead>\n",
       "  <tbody>\n",
       "    <tr>\n",
       "      <th>29</th>\n",
       "      <td>the</td>\n",
       "      <td>127</td>\n",
       "    </tr>\n",
       "    <tr>\n",
       "      <th>10</th>\n",
       "      <td>of</td>\n",
       "      <td>72</td>\n",
       "    </tr>\n",
       "    <tr>\n",
       "      <th>38</th>\n",
       "      <td>and</td>\n",
       "      <td>62</td>\n",
       "    </tr>\n",
       "    <tr>\n",
       "      <th>16</th>\n",
       "      <td>a</td>\n",
       "      <td>43</td>\n",
       "    </tr>\n",
       "    <tr>\n",
       "      <th>162</th>\n",
       "      <td>to</td>\n",
       "      <td>38</td>\n",
       "    </tr>\n",
       "    <tr>\n",
       "      <th>...</th>\n",
       "      <td>...</td>\n",
       "      <td>...</td>\n",
       "    </tr>\n",
       "    <tr>\n",
       "      <th>259</th>\n",
       "      <td>one</td>\n",
       "      <td>3</td>\n",
       "    </tr>\n",
       "    <tr>\n",
       "      <th>348</th>\n",
       "      <td>what</td>\n",
       "      <td>3</td>\n",
       "    </tr>\n",
       "    <tr>\n",
       "      <th>376</th>\n",
       "      <td>when</td>\n",
       "      <td>3</td>\n",
       "    </tr>\n",
       "    <tr>\n",
       "      <th>704</th>\n",
       "      <td>firmament</td>\n",
       "      <td>3</td>\n",
       "    </tr>\n",
       "    <tr>\n",
       "      <th>147</th>\n",
       "      <td>white</td>\n",
       "      <td>3</td>\n",
       "    </tr>\n",
       "  </tbody>\n",
       "</table>\n",
       "<p>100 rows × 2 columns</p>\n",
       "</div>"
      ],
      "text/plain": [
       "         token  count\n",
       "29         the    127\n",
       "10          of     72\n",
       "38         and     62\n",
       "16           a     43\n",
       "162         to     38\n",
       "..         ...    ...\n",
       "259        one      3\n",
       "348       what      3\n",
       "376       when      3\n",
       "704  firmament      3\n",
       "147      white      3\n",
       "\n",
       "[100 rows x 2 columns]"
      ]
     },
     "metadata": {},
     "output_type": "display_data"
    }
   ],
   "source": [
    "# We only want to include to top 100 most frequent words in our plot\n",
    "top_words_df = word_count_df.sort_values(\"count\", ascending=False).head(100)\n",
    "display(top_words_df)"
   ]
  },
  {
   "cell_type": "code",
   "execution_count": 6,
   "metadata": {},
   "outputs": [
    {
     "data": {
      "text/plain": [
       "Text(0.5, 1.0, 'Top 100 Most Frequent Words in a Subset of Project Gutenberg Texts')"
      ]
     },
     "execution_count": 6,
     "metadata": {},
     "output_type": "execute_result"
    },
    {
     "data": {
      "image/png": "[encoded data removed]",
      "text/plain": [
       "<Figure size 1440x1080 with 1 Axes>"
      ]
     },
     "metadata": {
      "needs_background": "light"
     },
     "output_type": "display_data"
    }
   ],
   "source": [
    "# Make the plot and customize how it is displayed\n",
    "plt.figure(figsize= (20, 15))\n",
    "fig = sns.barplot(data = top_words_df, x = \"count\", y = \"token\")\n",
    "fig.set_title(\"Top 100 Most Frequent Words in a Subset of Project Gutenberg Texts\")"
   ]
  }
 ],
 "metadata": {
  "interpreter": {
   "hash": "8db04dca66b9396af2474eca4189d3a8ab65d348a7a173a34f354ffe25d5d9d4"
  },
  "kernelspec": {
   "display_name": "Python 3.10.4 ('template')",
   "language": "python",
   "name": "python3"
  },
  "language_info": {
   "codemirror_mode": {
    "name": "ipython",
    "version": 3
   },
   "file_extension": ".py",
   "mimetype": "text/x-python",
   "name": "python",
   "nbconvert_exporter": "python",
   "pygments_lexer": "ipython3",
   "version": "3.10.4"
  },
  "orig_nbformat": 4
 },
 "nbformat": 4,
 "nbformat_minor": 2
}
